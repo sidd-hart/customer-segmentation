{
 "cells": [
  {
   "cell_type": "code",
   "execution_count": 1,
   "metadata": {},
   "outputs": [],
   "source": [
    "import warnings\n",
    "warnings.filterwarnings(\"ignore\")"
   ]
  },
  {
   "cell_type": "code",
   "execution_count": 4,
   "metadata": {},
   "outputs": [],
   "source": [
    "import pandas as pd\n",
    "import numpy as np\n",
    "import matplotlib.pyplot as plt\n",
    "import seaborn as sns\n",
    "\n",
    "import os"
   ]
  },
  {
   "cell_type": "code",
   "execution_count": 13,
   "metadata": {},
   "outputs": [],
   "source": [
    "from sklearn.cluster import KMeans"
   ]
  },
  {
   "cell_type": "code",
   "execution_count": 3,
   "metadata": {},
   "outputs": [],
   "source": [
    "data_folder = '/home/sid/mystuff/myprogs/flirt/projects/product_analytics/customer_segmentation/data/'"
   ]
  },
  {
   "cell_type": "code",
   "execution_count": 5,
   "metadata": {},
   "outputs": [],
   "source": [
    "datapath = os.path.join(data_folder, 'processed/segmentation_scaled.csv')"
   ]
  },
  {
   "cell_type": "code",
   "execution_count": 12,
   "metadata": {},
   "outputs": [
    {
     "data": {
      "text/html": [
       "<div>\n",
       "<style scoped>\n",
       "    .dataframe tbody tr th:only-of-type {\n",
       "        vertical-align: middle;\n",
       "    }\n",
       "\n",
       "    .dataframe tbody tr th {\n",
       "        vertical-align: top;\n",
       "    }\n",
       "\n",
       "    .dataframe thead th {\n",
       "        text-align: right;\n",
       "    }\n",
       "</style>\n",
       "<table border=\"1\" class=\"dataframe\">\n",
       "  <thead>\n",
       "    <tr style=\"text-align: right;\">\n",
       "      <th></th>\n",
       "      <th>ID</th>\n",
       "      <th>Sex</th>\n",
       "      <th>Marital status</th>\n",
       "      <th>Age</th>\n",
       "      <th>Education</th>\n",
       "      <th>Income</th>\n",
       "      <th>Occupation</th>\n",
       "      <th>Settlement size</th>\n",
       "    </tr>\n",
       "  </thead>\n",
       "  <tbody>\n",
       "    <tr>\n",
       "      <th>0</th>\n",
       "      <td>-1.731185</td>\n",
       "      <td>-0.917399</td>\n",
       "      <td>-0.993024</td>\n",
       "      <td>2.653614</td>\n",
       "      <td>1.604323</td>\n",
       "      <td>0.097524</td>\n",
       "      <td>0.296823</td>\n",
       "      <td>1.552326</td>\n",
       "    </tr>\n",
       "    <tr>\n",
       "      <th>1</th>\n",
       "      <td>-1.729453</td>\n",
       "      <td>1.090038</td>\n",
       "      <td>1.007025</td>\n",
       "      <td>-1.187132</td>\n",
       "      <td>-0.063372</td>\n",
       "      <td>0.782654</td>\n",
       "      <td>0.296823</td>\n",
       "      <td>1.552326</td>\n",
       "    </tr>\n",
       "    <tr>\n",
       "      <th>2</th>\n",
       "      <td>-1.727721</td>\n",
       "      <td>-0.917399</td>\n",
       "      <td>-0.993024</td>\n",
       "      <td>1.117316</td>\n",
       "      <td>-0.063372</td>\n",
       "      <td>-0.833202</td>\n",
       "      <td>-1.269525</td>\n",
       "      <td>-0.909730</td>\n",
       "    </tr>\n",
       "    <tr>\n",
       "      <th>3</th>\n",
       "      <td>-1.725989</td>\n",
       "      <td>-0.917399</td>\n",
       "      <td>-0.993024</td>\n",
       "      <td>0.775916</td>\n",
       "      <td>-0.063372</td>\n",
       "      <td>1.328386</td>\n",
       "      <td>0.296823</td>\n",
       "      <td>0.321298</td>\n",
       "    </tr>\n",
       "    <tr>\n",
       "      <th>4</th>\n",
       "      <td>-1.724257</td>\n",
       "      <td>-0.917399</td>\n",
       "      <td>-0.993024</td>\n",
       "      <td>1.458716</td>\n",
       "      <td>-0.063372</td>\n",
       "      <td>0.736932</td>\n",
       "      <td>0.296823</td>\n",
       "      <td>0.321298</td>\n",
       "    </tr>\n",
       "  </tbody>\n",
       "</table>\n",
       "</div>"
      ],
      "text/plain": [
       "         ID       Sex  Marital status       Age  Education    Income  \\\n",
       "0 -1.731185 -0.917399       -0.993024  2.653614   1.604323  0.097524   \n",
       "1 -1.729453  1.090038        1.007025 -1.187132  -0.063372  0.782654   \n",
       "2 -1.727721 -0.917399       -0.993024  1.117316  -0.063372 -0.833202   \n",
       "3 -1.725989 -0.917399       -0.993024  0.775916  -0.063372  1.328386   \n",
       "4 -1.724257 -0.917399       -0.993024  1.458716  -0.063372  0.736932   \n",
       "\n",
       "   Occupation  Settlement size  \n",
       "0    0.296823         1.552326  \n",
       "1    0.296823         1.552326  \n",
       "2   -1.269525        -0.909730  \n",
       "3    0.296823         0.321298  \n",
       "4    0.296823         0.321298  "
      ]
     },
     "execution_count": 12,
     "metadata": {},
     "output_type": "execute_result"
    }
   ],
   "source": [
    "df = pd.read_csv(datapath, index_col=0)\n",
    "df.head()"
   ]
  },
  {
   "cell_type": "code",
   "execution_count": null,
   "metadata": {},
   "outputs": [],
   "source": []
  },
  {
   "cell_type": "code",
   "execution_count": null,
   "metadata": {},
   "outputs": [],
   "source": []
  },
  {
   "cell_type": "code",
   "execution_count": null,
   "metadata": {},
   "outputs": [],
   "source": []
  },
  {
   "cell_type": "code",
   "execution_count": null,
   "metadata": {},
   "outputs": [],
   "source": []
  },
  {
   "cell_type": "code",
   "execution_count": null,
   "metadata": {},
   "outputs": [],
   "source": []
  },
  {
   "cell_type": "code",
   "execution_count": null,
   "metadata": {},
   "outputs": [],
   "source": []
  },
  {
   "cell_type": "code",
   "execution_count": null,
   "metadata": {},
   "outputs": [],
   "source": []
  },
  {
   "cell_type": "code",
   "execution_count": null,
   "metadata": {},
   "outputs": [],
   "source": []
  },
  {
   "cell_type": "code",
   "execution_count": null,
   "metadata": {},
   "outputs": [],
   "source": []
  }
 ],
 "metadata": {
  "kernelspec": {
   "display_name": "customer_analytics_env",
   "language": "python",
   "name": "customer_analytics_env"
  },
  "language_info": {
   "codemirror_mode": {
    "name": "ipython",
    "version": 3
   },
   "file_extension": ".py",
   "mimetype": "text/x-python",
   "name": "python",
   "nbconvert_exporter": "python",
   "pygments_lexer": "ipython3",
   "version": "3.7.0"
  }
 },
 "nbformat": 4,
 "nbformat_minor": 4
}
